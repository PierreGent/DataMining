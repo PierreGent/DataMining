{
 "cells": [
  {
   "cell_type": "code",
   "execution_count": null,
   "metadata": {},
   "outputs": [],
   "source": [
    "import pandas as pd \n",
    "import numpy as np\n",
    "import sys\n",
    "from googletrans import Translator\n",
    "\n",
    "\n",
    "data = pd.read_csv('../data/export_articles_EGC_2004_2018.csv', delimiter='\\t')"
   ]
  },
  {
   "cell_type": "code",
   "execution_count": null,
   "metadata": {},
   "outputs": [],
   "source": [
    "data"
   ]
  },
  {
   "cell_type": "code",
   "execution_count": null,
   "metadata": {},
   "outputs": [],
   "source": [
    "data_abstract_title = pd.DataFrame(columns=['authors', 'title_abstract'])    "
   ]
  },
  {
   "cell_type": "code",
   "execution_count": null,
   "metadata": {},
   "outputs": [],
   "source": [
    "data_abstract_title"
   ]
  },
  {
   "cell_type": "code",
   "execution_count": null,
   "metadata": {},
   "outputs": [],
   "source": [
    "for index, row in data.iterrows():\n",
    "    if str(row['abstract']) == \"nan\":\n",
    "        data_abstract_title = data_abstract_title.append({'authors': row['authors'], 'title_abstract': row['title']}, ignore_index=True)\n",
    "    else:\n",
    "        data_abstract_title = data_abstract_title.append({'authors': row['authors'], 'title_abstract': row['title'] + row['abstract']}, ignore_index=True)\n",
    "    \n",
    "    #data_abstract_title = data_abstract_title.append({'num_doc': i, 'title_abstract': row['title'] + row['abstract']})"
   ]
  },
  {
   "cell_type": "code",
   "execution_count": null,
   "metadata": {},
   "outputs": [],
   "source": [
    "pd.set_option('display.max_rows', None)\n",
    "data_abstract_title"
   ]
  },
  {
   "cell_type": "code",
   "execution_count": null,
   "metadata": {},
   "outputs": [],
   "source": [
    "# Buid array with all authors names uniq\n",
    "uniq_names = []\n",
    "setUniq=set(uniq_names)\n",
    "i = 0\n",
    "for row in data_abstract_title.iterrows():\n",
    "    athors_paper = data_abstract_title[\"authors\"].iloc[i].split(', ')\n",
    "    setAuthor=set(athors_paper)\n",
    "    uniq_names = uniq_names + list(setAuthor-setUniq)\n",
    "    setUniq=set(uniq_names)\n",
    "    i=i+1\n",
    "   \n",
    "\n",
    "# Get number of authors\n",
    "nb_authors = len(uniq_names)\n",
    "\n",
    "nb_authors"
   ]
  },
  {
   "cell_type": "code",
   "execution_count": null,
   "metadata": {},
   "outputs": [],
   "source": [
    "uniq_names"
   ]
  },
  {
   "cell_type": "code",
   "execution_count": null,
   "metadata": {},
   "outputs": [],
   "source": [
    "data_abstract_title_uniq = pd.DataFrame(columns=['author', 'title_abstract'])   \n",
    "\n",
    "for name in uniq_names:\n",
    "    data_abstract_title_uniq = data_abstract_title_uniq.append({'author': name, 'title_abstract': \"\"}, ignore_index=True)\n",
    "    \n",
    "    "
   ]
  },
  {
   "cell_type": "code",
   "execution_count": null,
   "metadata": {},
   "outputs": [],
   "source": [
    "data_abstract_title_uniq\n"
   ]
  },
  {
   "cell_type": "code",
   "execution_count": null,
   "metadata": {},
   "outputs": [],
   "source": [
    "for i, rowi in data_abstract_title.iterrows():\n",
    "    print(round((i*100)/len(data_abstract_title), 2),\"% / 100%\", end='\\r') # Print a loading bar ... \n",
    "    for j, rowj in data_abstract_title_uniq.iterrows():\n",
    "        athors_paper = data_abstract_title[\"authors\"].iloc[i].split(', ')\n",
    "        for author in athors_paper:\n",
    "            if author == rowj[\"author\"]:\n",
    "                rowj[\"title_abstract\"] = rowj[\"title_abstract\"] + rowi[\"title_abstract\"]\n",
    "        \n",
    "         \n",
    "            "
   ]
  },
  {
   "cell_type": "code",
   "execution_count": null,
   "metadata": {},
   "outputs": [],
   "source": [
    "data_abstract_title_uniq"
   ]
  },
  {
   "cell_type": "code",
   "execution_count": null,
   "metadata": {
    "scrolled": false
   },
   "outputs": [],
   "source": [
    "data_abstract_title_uniq.iloc[0][\"title_abstract\"]"
   ]
  }
 ],
 "metadata": {
  "kernelspec": {
   "display_name": "Python 3",
   "language": "python",
   "name": "python3"
  },
  "language_info": {
   "codemirror_mode": {
    "name": "ipython",
    "version": 3
   },
   "file_extension": ".py",
   "mimetype": "text/x-python",
   "name": "python",
   "nbconvert_exporter": "python",
   "pygments_lexer": "ipython3",
   "version": "3.7.2"
  }
 },
 "nbformat": 4,
 "nbformat_minor": 2
}
