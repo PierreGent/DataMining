{
 "cells": [
  {
   "cell_type": "code",
   "execution_count": null,
   "metadata": {},
   "outputs": [],
   "source": [
    "import pandas as pd \n",
    "import numpy as np\n",
    "\n",
    "data = pd.read_csv('../data/export_articles_EGC_2004_2018.csv', delimiter='\\t')"
   ]
  },
  {
   "cell_type": "code",
   "execution_count": null,
   "metadata": {},
   "outputs": [],
   "source": [
    "# Buid array with all authors names uniq\n",
    "uniq_names = []\n",
    "setUniq=set(uniq_names)\n",
    "i = 0\n",
    "for row in data.iterrows():\n",
    "    athors_paper = data[\"authors\"].iloc[i].split(', ')\n",
    "    setAuthor=set(athors_paper)\n",
    "    uniq_names = uniq_names + list(setAuthor-setUniq)\n",
    "    setUniq=set(uniq_names)\n",
    "    i=i+1\n",
    "   \n",
    "\n",
    "# Get number of authors\n",
    "nb_authors = len(uniq_names)\n",
    "\n",
    "nb_authors"
   ]
  },
  {
   "cell_type": "code",
   "execution_count": null,
   "metadata": {},
   "outputs": [],
   "source": [
    "#Build nb_authors x nb_authors zero matrix\n",
    "zero_matrix = np.zeros((nb_authors, nb_authors))"
   ]
  },
  {
   "cell_type": "code",
   "execution_count": null,
   "metadata": {},
   "outputs": [],
   "source": [
    "zero_matrix"
   ]
  },
  {
   "cell_type": "code",
   "execution_count": null,
   "metadata": {},
   "outputs": [],
   "source": [
    "# Create publication adjacency matrix \n",
    "names = [_ for _ in uniq_names]\n",
    "adjacency_matrix = pd.DataFrame(zero_matrix, index=names, columns=names)\n",
    "\n"
   ]
  },
  {
   "cell_type": "code",
   "execution_count": null,
   "metadata": {
    "scrolled": false
   },
   "outputs": [],
   "source": [
    "adjacency_matrix"
   ]
  },
  {
   "cell_type": "code",
   "execution_count": null,
   "metadata": {},
   "outputs": [],
   "source": [
    "# co_authors : array with authors of on paper ; adjecency_matrix : co authors adjacency matrix\n",
    "def co_authors(co_auth, adjecency_matrix):\n",
    "    for i in range(0, len(co_auth)):\n",
    "        for j in range(i, len(co_auth)):\n",
    "            if i!=j :\n",
    "                adjecency_matrix[co_auth[i]][co_auth[j]] = adjecency_matrix[co_auth[i]][co_auth[j]] + 1\n",
    "                adjecency_matrix[co_auth[j]][co_auth[i]] = adjecency_matrix[co_auth[i]][co_auth[j]]\n"
   ]
  },
  {
   "cell_type": "code",
   "execution_count": null,
   "metadata": {},
   "outputs": [],
   "source": [
    "i = 0\n",
    "for row in data.iterrows():\n",
    "    athors_paper = data[\"authors\"].iloc[i].split(', ')\n",
    "    co_authors(athors_paper, adjacency_matrix)\n",
    "    i=i+1\n",
    "    "
   ]
  },
  {
   "cell_type": "code",
   "execution_count": null,
   "metadata": {},
   "outputs": [],
   "source": [
    "adjacency_matrix"
   ]
  },
  {
   "cell_type": "code",
   "execution_count": null,
   "metadata": {},
   "outputs": [],
   "source": [
    "adjacency_matrix.to_csv('../generated_data/output.csv', encoding=\"utf-8\")"
   ]
  },
  {
   "cell_type": "code",
   "execution_count": null,
   "metadata": {},
   "outputs": [],
   "source": [
    "adjacency_matrix[\"Edwin Diday\"][\"Edwin Diday\"]"
   ]
  },
  {
   "cell_type": "code",
   "execution_count": null,
   "metadata": {},
   "outputs": [],
   "source": []
  }
 ],
 "metadata": {
  "kernelspec": {
   "display_name": "Python 3",
   "language": "python",
   "name": "python3"
  },
  "language_info": {
   "codemirror_mode": {
    "name": "ipython",
    "version": 3
   },
   "file_extension": ".py",
   "mimetype": "text/x-python",
   "name": "python",
   "nbconvert_exporter": "python",
   "pygments_lexer": "ipython3",
   "version": "3.7.2"
  }
 },
 "nbformat": 4,
 "nbformat_minor": 2
}
